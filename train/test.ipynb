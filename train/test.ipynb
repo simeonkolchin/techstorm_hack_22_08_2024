{
 "cells": [
  {
   "cell_type": "code",
   "execution_count": 2,
   "metadata": {},
   "outputs": [
    {
     "ename": "KeyboardInterrupt",
     "evalue": "",
     "output_type": "error",
     "traceback": [
      "\u001b[1;31m---------------------------------------------------------------------------\u001b[0m",
      "\u001b[1;31mKeyboardInterrupt\u001b[0m                         Traceback (most recent call last)",
      "Cell \u001b[1;32mIn[2], line 35\u001b[0m\n\u001b[0;32m     32\u001b[0m     \u001b[38;5;28mprint\u001b[39m(\u001b[38;5;124mf\u001b[39m\u001b[38;5;124m\"\u001b[39m\u001b[38;5;124mСохранено \u001b[39m\u001b[38;5;132;01m{\u001b[39;00msaved_count\u001b[38;5;132;01m}\u001b[39;00m\u001b[38;5;124m кадров в директорию: \u001b[39m\u001b[38;5;132;01m{\u001b[39;00moutput_dir\u001b[38;5;132;01m}\u001b[39;00m\u001b[38;5;124m\"\u001b[39m)\n\u001b[0;32m     34\u001b[0m \u001b[38;5;66;03m# Пример использования:\u001b[39;00m\n\u001b[1;32m---> 35\u001b[0m \u001b[43mextract_frames\u001b[49m\u001b[43m(\u001b[49m\u001b[38;5;124;43m'\u001b[39;49m\u001b[38;5;124;43mD:/Simeon Kolchin/Хакатоны/techstorm_hack_22_08_2024/train/vs1.mp4\u001b[39;49m\u001b[38;5;124;43m'\u001b[39;49m\u001b[43m,\u001b[49m\u001b[43m \u001b[49m\u001b[38;5;124;43m'\u001b[39;49m\u001b[38;5;124;43mscrinshots/\u001b[39;49m\u001b[38;5;124;43m'\u001b[39;49m\u001b[43m)\u001b[49m\n\u001b[0;32m     36\u001b[0m \u001b[38;5;66;03m# print(mp.cpu_count())\u001b[39;00m\n",
      "Cell \u001b[1;32mIn[2], line 22\u001b[0m, in \u001b[0;36mextract_frames\u001b[1;34m(video_path, output_dir, interval)\u001b[0m\n\u001b[0;32m     19\u001b[0m saved_count \u001b[38;5;241m=\u001b[39m \u001b[38;5;241m546\u001b[39m\n\u001b[0;32m     21\u001b[0m \u001b[38;5;28;01mwhile\u001b[39;00m \u001b[38;5;28;01mTrue\u001b[39;00m:\n\u001b[1;32m---> 22\u001b[0m     \u001b[43mcap\u001b[49m\u001b[38;5;241;43m.\u001b[39;49m\u001b[43mset\u001b[49m\u001b[43m(\u001b[49m\u001b[43mcv2\u001b[49m\u001b[38;5;241;43m.\u001b[39;49m\u001b[43mCAP_PROP_POS_FRAMES\u001b[49m\u001b[43m,\u001b[49m\u001b[43m \u001b[49m\u001b[43mframe_count\u001b[49m\u001b[43m)\u001b[49m\n\u001b[0;32m     23\u001b[0m     ret, frame \u001b[38;5;241m=\u001b[39m cap\u001b[38;5;241m.\u001b[39mread()\n\u001b[0;32m     25\u001b[0m     \u001b[38;5;66;03m# Сохраняем кадр каждые frame_interval кадров\u001b[39;00m\n",
      "\u001b[1;31mKeyboardInterrupt\u001b[0m: "
     ]
    }
   ],
   "source": [
    "import cv2\n",
    "import os\n",
    "import multiprocessing as mp\n",
    "\n",
    "def extract_frames(video_path, output_dir, interval=60):\n",
    "    if not os.path.exists(output_dir):\n",
    "        os.makedirs(output_dir)\n",
    "\n",
    "    # Открываем видеофайл\n",
    "    cap = cv2.VideoCapture(video_path)\n",
    "    \n",
    "    # Получаем частоту кадров (fps)\n",
    "    fps = cap.get(cv2.CAP_PROP_FPS)\n",
    "    \n",
    "    # Рассчитываем количество кадров, соответствующее заданному интервалу\n",
    "    frame_interval = int(1000)\n",
    "\n",
    "    frame_count = 10000\n",
    "    saved_count = 546\n",
    "\n",
    "    while True:\n",
    "        cap.set(cv2.CAP_PROP_POS_FRAMES, frame_count)\n",
    "        ret, frame = cap.read()\n",
    "\n",
    "        # Сохраняем кадр каждые frame_interval кадров\n",
    "        frame_filename = os.path.join(output_dir, f'frame_{saved_count:04d}.jpg')\n",
    "        cv2.imwrite(frame_filename, frame)\n",
    "        saved_count += 1\n",
    "        frame_count += frame_interval\n",
    "\n",
    "    cap.release()\n",
    "    print(f\"Сохранено {saved_count} кадров в директорию: {output_dir}\")\n",
    "\n",
    "# Пример использования:\n",
    "extract_frames('D:/Simeon Kolchin/Хакатоны/techstorm_hack_22_08_2024/train/vs1.mp4', 'scrinshots/')\n",
    "# print(mp.cpu_count())"
   ]
  },
  {
   "cell_type": "code",
   "execution_count": null,
   "metadata": {},
   "outputs": [],
   "source": []
  }
 ],
 "metadata": {
  "kernelspec": {
   "display_name": "Python 3",
   "language": "python",
   "name": "python3"
  },
  "language_info": {
   "codemirror_mode": {
    "name": "ipython",
    "version": 3
   },
   "file_extension": ".py",
   "mimetype": "text/x-python",
   "name": "python",
   "nbconvert_exporter": "python",
   "pygments_lexer": "ipython3",
   "version": "3.11.9"
  }
 },
 "nbformat": 4,
 "nbformat_minor": 2
}
